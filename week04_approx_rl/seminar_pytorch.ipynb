{
  "cells": [
    {
      "cell_type": "markdown",
      "metadata": {
        "id": "kr_aKWMGEmh-"
      },
      "source": [
        "# Approximate q-learning\n",
        "\n",
        "In this notebook you will teach a __PyTorch__ neural network to do Q-learning."
      ]
    },
    {
      "cell_type": "code",
      "execution_count": 1,
      "metadata": {
        "id": "oaMu65ONEmh_"
      },
      "outputs": [],
      "source": [
        "import sys, os\n",
        "if 'google.colab' in sys.modules and not os.path.exists('.setup_complete'):\n",
        "    !wget -q https://raw.githubusercontent.com/yandexdataschool/Practical_RL/master/setup_colab.sh -O- | bash\n",
        "    !touch .setup_complete\n",
        "\n",
        "# This code creates a virtual display to draw game images on.\n",
        "# It will have no effect if your machine has a monitor.\n",
        "if type(os.environ.get(\"DISPLAY\")) is not str or len(os.environ.get(\"DISPLAY\")) == 0:\n",
        "    !bash ../xvfb start\n",
        "    os.environ['DISPLAY'] = ':1'"
      ]
    },
    {
      "cell_type": "code",
      "execution_count": 2,
      "metadata": {
        "id": "avILCRKkEpaX"
      },
      "outputs": [
        {
          "name": "stdout",
          "output_type": "stream",
          "text": [
            "Defaulting to user installation because normal site-packages is not writeable\n",
            "Requirement already satisfied: gymnasium[classic_control] in /home/khaymonenko/.local/lib/python3.10/site-packages (0.29.1)\n",
            "Requirement already satisfied: numpy>=1.21.0 in /home/khaymonenko/.local/lib/python3.10/site-packages (from gymnasium[classic_control]) (1.26.0)\n",
            "Requirement already satisfied: cloudpickle>=1.2.0 in /home/khaymonenko/.local/lib/python3.10/site-packages (from gymnasium[classic_control]) (3.0.0)\n",
            "Requirement already satisfied: typing-extensions>=4.3.0 in /home/khaymonenko/.local/lib/python3.10/site-packages (from gymnasium[classic_control]) (4.8.0)\n",
            "Requirement already satisfied: farama-notifications>=0.0.1 in /home/khaymonenko/.local/lib/python3.10/site-packages (from gymnasium[classic_control]) (0.0.4)\n",
            "Requirement already satisfied: pygame>=2.1.3 in /home/khaymonenko/.local/lib/python3.10/site-packages (from gymnasium[classic_control]) (2.5.2)\n"
          ]
        }
      ],
      "source": [
        "!pip install gymnasium[classic_control]"
      ]
    },
    {
      "cell_type": "code",
      "execution_count": 3,
      "metadata": {
        "id": "K_SRk2ASEmh_"
      },
      "outputs": [],
      "source": [
        "import gymnasium as gym\n",
        "import numpy as np\n",
        "import pandas as pd\n",
        "import matplotlib.pyplot as plt\n",
        "%matplotlib inline"
      ]
    },
    {
      "cell_type": "code",
      "execution_count": 4,
      "metadata": {
        "id": "x2YvkgprEmh_"
      },
      "outputs": [
        {
          "name": "stderr",
          "output_type": "stream",
          "text": [
            "/home/khaymonenko/.local/lib/python3.10/site-packages/gymnasium/envs/registration.py:513: DeprecationWarning: \u001b[33mWARN: The environment CartPole-v0 is out of date. You should consider upgrading to version `v1`.\u001b[0m\n",
            "  logger.deprecation(\n"
          ]
        },
        {
          "data": {
            "image/png": "[encoded data removed]",
            "text/plain": [
              "<Figure size 640x480 with 1 Axes>"
            ]
          },
          "metadata": {},
          "output_type": "display_data"
        }
      ],
      "source": [
        "env = gym.make(\"CartPole-v0\", render_mode=\"rgb_array\").env\n",
        "env.reset()\n",
        "n_actions = env.action_space.n\n",
        "state_dim = env.observation_space.shape\n",
        "\n",
        "plt.imshow(env.render())\n",
        "env.close()"
      ]
    },
    {
      "cell_type": "markdown",
      "metadata": {
        "id": "sI8W19CwEmh_"
      },
      "source": [
        "# Approximate Q-learning: building the network\n",
        "\n",
        "To train a neural network policy one must have a neural network policy. Let's build it.\n",
        "\n",
        "\n",
        "Since we're working with a pre-extracted features (cart positions, angles and velocities), we don't need a complicated network yet. In fact, let's build something like this for starters:\n",
        "\n",
        "![img](https://raw.githubusercontent.com/yandexdataschool/Practical_RL/master/yet_another_week/_resource/qlearning_scheme.png)\n",
        "\n",
        "For your first run, please only use linear layers (`nn.Linear`) and activations. Stuff like batch normalization or dropout may ruin everything if used haphazardly.\n",
        "\n",
        "Also please avoid using nonlinearities like sigmoid & tanh: since agent's observations are not normalized, sigmoids might be saturated at initialization. Instead, use non-saturating nonlinearities like ReLU.\n",
        "\n",
        "Ideally you should start small with maybe 1-2 hidden layers with < 200 neurons and then increase network size if agent doesn't beat the target score."
      ]
    },
    {
      "cell_type": "code",
      "execution_count": 5,
      "metadata": {
        "id": "YdWXv8WJEmiA"
      },
      "outputs": [],
      "source": [
        "import torch\n",
        "import torch.nn as nn\n",
        "import torch.nn.functional as F"
      ]
    },
    {
      "cell_type": "code",
      "execution_count": 12,
      "metadata": {
        "id": "y2-PcaIQEmiA"
      },
      "outputs": [],
      "source": [
        "network = nn.Sequential()\n",
        "\n",
        "network.add_module('linear_1', nn.Linear(state_dim[0], 16))\n",
        "network.add_module('relu_1', nn.ReLU())\n",
        "network.add_module('linear_2', nn.Linear(16, n_actions))\n",
        "\n",
        "# hint: use state_dim[0] as input size"
      ]
    },
    {
      "cell_type": "code",
      "execution_count": 15,
      "metadata": {
        "id": "8xuWPGriEmiA"
      },
      "outputs": [],
      "source": [
        "def get_action(state, epsilon=0):\n",
        "    \"\"\"\n",
        "    sample actions with epsilon-greedy policy\n",
        "    recap: with p = epsilon pick random action, else pick action with highest Q(s,a)\n",
        "    \"\"\"\n",
        "    state = torch.tensor(state[None], dtype=torch.float32)\n",
        "    q_values = network(state).detach().numpy()\n",
        "\n",
        "    if np.random.rand() < epsilon:\n",
        "        return np.random.choice(range(n_actions))\n",
        "    else:\n",
        "        return int(np.argmax(q_values))"
      ]
    },
    {
      "cell_type": "code",
      "execution_count": 16,
      "metadata": {
        "id": "wroEfSRNEmiA"
      },
      "outputs": [
        {
          "name": "stdout",
          "output_type": "stream",
          "text": [
            "e=0.0 tests passed\n",
            "e=0.1 tests passed\n",
            "e=0.5 tests passed\n",
            "e=1.0 tests passed\n"
          ]
        }
      ],
      "source": [
        "s, _ = env.reset()\n",
        "assert tuple(network(torch.tensor([s]*3, dtype=torch.float32)).size()) == (\n",
        "    3, n_actions), \"please make sure your model maps state s -> [Q(s,a0), ..., Q(s, a_last)]\"\n",
        "assert isinstance(list(network.modules(\n",
        "))[-1], nn.Linear), \"please make sure you predict q-values without nonlinearity (ignore if you know what you're doing)\"\n",
        "assert isinstance(get_action(s), int), \"get_action(s) must return int, not %s. try int(action)\" % (type(get_action(s)))\n",
        "\n",
        "# test epsilon-greedy exploration\n",
        "for eps in [0., 0.1, 0.5, 1.0]:\n",
        "    state_frequencies = np.bincount(\n",
        "        [get_action(s, epsilon=eps) for i in range(10000)], minlength=n_actions)\n",
        "    best_action = state_frequencies.argmax()\n",
        "    assert abs(state_frequencies[best_action] -\n",
        "               10000 * (1 - eps + eps / n_actions)) < 200\n",
        "    for other_action in range(n_actions):\n",
        "        if other_action != best_action:\n",
        "            assert abs(state_frequencies[other_action] -\n",
        "                       10000 * (eps / n_actions)) < 200\n",
        "    print('e=%.1f tests passed' % eps)"
      ]
    },
    {
      "cell_type": "markdown",
      "metadata": {
        "id": "f88ovLBQEmiA"
      },
      "source": [
        "### Q-learning via gradient descent\n",
        "\n",
        "We shall now train our agent's Q-function by minimizing the TD loss:\n",
        "$$ L = { 1 \\over N} \\sum_i (Q_{\\theta}(s,a) - [r(s,a) + \\gamma \\cdot max_{a'} Q_{-}(s', a')]) ^2 $$\n",
        "\n",
        "\n",
        "Where\n",
        "* $s, a, r, s'$ are current state, action, reward and next state respectively\n",
        "* $\\gamma$ is a discount factor defined two cells above.\n",
        "\n",
        "The tricky part is with  $Q_{-}(s',a')$. From an engineering standpoint, it's the same as $Q_{\\theta}$ - the output of your neural network policy. However, when doing gradient descent, __we won't propagate gradients through it__ to make training more stable (see lectures).\n",
        "\n",
        "To do so, we shall use `x.detach()` function which basically says \"consider this thing constant when doing backprop\"."
      ]
    },
    {
      "cell_type": "code",
      "execution_count": 19,
      "metadata": {
        "id": "bOIpO142EmiB"
      },
      "outputs": [],
      "source": [
        "def compute_td_loss(states, actions, rewards, next_states, is_done, gamma=0.99, check_shapes=False):\n",
        "    \"\"\" Compute td loss using torch operations only. Use the formula above. \"\"\"\n",
        "    states = torch.tensor(\n",
        "        states, dtype=torch.float32)                                  # shape: [batch_size, state_size]\n",
        "    actions = torch.tensor(actions, dtype=torch.long)                 # shape: [batch_size]\n",
        "    rewards = torch.tensor(rewards, dtype=torch.float32)              # shape: [batch_size]\n",
        "    # shape: [batch_size, state_size]\n",
        "    next_states = torch.tensor(next_states, dtype=torch.float32)\n",
        "    is_done = torch.tensor(is_done, dtype=torch.uint8)                # shape: [batch_size]\n",
        "\n",
        "    # get q-values for all actions in current states\n",
        "    predicted_qvalues = network(states)                               # shape: [batch_size, n_actions]\n",
        "\n",
        "    # select q-values for chosen actions\n",
        "    predicted_qvalues_for_actions = predicted_qvalues[                # shape: [batch_size]\n",
        "      range(states.shape[0]), actions\n",
        "    ]\n",
        "\n",
        "    # compute q-values for all actions in next states\n",
        "    predicted_next_qvalues = network(next_states).detach()\n",
        "\n",
        "    # compute V*(next_states) using predicted next q-values\n",
        "    next_state_values = predicted_next_qvalues.max(axis=1)[0]\n",
        "    assert next_state_values.dtype == torch.float32\n",
        "\n",
        "    # compute \"target q-values\" for loss - it's what's inside square parentheses in the above formula.\n",
        "    target_qvalues_for_actions = rewards + gamma * next_state_values\n",
        "\n",
        "    # at the last state we shall use simplified formula: Q(s,a) = r(s,a) since s' doesn't exist\n",
        "    target_qvalues_for_actions = torch.where(\n",
        "        is_done, rewards, target_qvalues_for_actions)\n",
        "\n",
        "    # mean squared error loss to minimize\n",
        "    loss = torch.mean((predicted_qvalues_for_actions -\n",
        "                       target_qvalues_for_actions.detach()) ** 2)\n",
        "\n",
        "    if check_shapes:\n",
        "        assert predicted_next_qvalues.data.dim(\n",
        "        ) == 2, \"make sure you predicted q-values for all actions in next state\"\n",
        "        assert next_state_values.data.dim(\n",
        "        ) == 1, \"make sure you computed V(s') as maximum over just the actions axis and not all axes\"\n",
        "        assert target_qvalues_for_actions.data.dim(\n",
        "        ) == 1, \"there's something wrong with target q-values, they must be a vector\"\n",
        "\n",
        "    return loss"
      ]
    },
    {
      "cell_type": "code",
      "execution_count": 20,
      "metadata": {
        "id": "lKi6AK3DEmiB"
      },
      "outputs": [
        {
          "name": "stderr",
          "output_type": "stream",
          "text": [
            "/tmp/ipykernel_95012/50896810.py:30: UserWarning: where received a uint8 condition tensor. This behavior is deprecated and will be removed in a future version of PyTorch. Use a boolean condition instead. (Triggered internally at ../aten/src/ATen/native/TensorCompare.cpp:519.)\n",
            "  target_qvalues_for_actions = torch.where(\n"
          ]
        }
      ],
      "source": [
        "# sanity checks\n",
        "s, _ = env.reset()\n",
        "a = env.action_space.sample()\n",
        "next_s, r, terminated, _, _ = env.step(a)\n",
        "loss = compute_td_loss([s], [a], [r], [next_s], [terminated], check_shapes=True)\n",
        "loss.backward()\n",
        "\n",
        "assert len(loss.size()) == 0, \"you must return scalar loss - mean over batch\"\n",
        "assert np.any(next(network.parameters()).grad.detach().numpy() !=\n",
        "              0), \"loss must be differentiable w.r.t. network weights\""
      ]
    },
    {
      "cell_type": "markdown",
      "metadata": {
        "id": "LgL6G5lFEmiB"
      },
      "source": [
        "### Playing the game"
      ]
    },
    {
      "cell_type": "code",
      "execution_count": 21,
      "metadata": {
        "id": "zsHb_fjjEmiB"
      },
      "outputs": [
        {
          "name": "stderr",
          "output_type": "stream",
          "text": [
            "/home/khaymonenko/.local/lib/python3.10/site-packages/tqdm/auto.py:21: TqdmWarning: IProgress not found. Please update jupyter and ipywidgets. See https://ipywidgets.readthedocs.io/en/stable/user_install.html\n",
            "  from .autonotebook import tqdm as notebook_tqdm\n"
          ]
        }
      ],
      "source": [
        "opt = torch.optim.Adam(network.parameters(), lr=1e-4)"
      ]
    },
    {
      "cell_type": "code",
      "execution_count": 22,
      "metadata": {
        "id": "nJ_-xtsjEmiB"
      },
      "outputs": [],
      "source": [
        "def generate_session(env, t_max=1000, epsilon=0, train=False):\n",
        "    \"\"\"play env with approximate q-learning agent and train it at the same time\"\"\"\n",
        "    total_reward = 0\n",
        "    s, _ = env.reset()\n",
        "\n",
        "    for t in range(t_max):\n",
        "        a = get_action(s, epsilon=epsilon)\n",
        "        next_s, r, terminated, truncated, _ = env.step(a)\n",
        "\n",
        "        if train:\n",
        "            opt.zero_grad()\n",
        "            compute_td_loss([s], [a], [r], [next_s], [terminated]).backward()\n",
        "            opt.step()\n",
        "\n",
        "        total_reward += r\n",
        "        s = next_s\n",
        "        if terminated or truncated:\n",
        "            break\n",
        "\n",
        "    return total_reward"
      ]
    },
    {
      "cell_type": "code",
      "execution_count": 23,
      "metadata": {
        "id": "40mKYuVIEmiB"
      },
      "outputs": [],
      "source": [
        "epsilon = 0.5"
      ]
    },
    {
      "cell_type": "code",
      "execution_count": 24,
      "metadata": {
        "id": "EXy8ij00EmiB"
      },
      "outputs": [
        {
          "name": "stdout",
          "output_type": "stream",
          "text": [
            "epoch #0\tmean reward = 13.530\tepsilon = 0.500\n",
            "epoch #1\tmean reward = 13.970\tepsilon = 0.495\n",
            "epoch #2\tmean reward = 14.040\tepsilon = 0.490\n",
            "epoch #3\tmean reward = 13.540\tepsilon = 0.485\n",
            "epoch #4\tmean reward = 14.040\tepsilon = 0.480\n",
            "epoch #5\tmean reward = 12.760\tepsilon = 0.475\n",
            "epoch #6\tmean reward = 13.550\tepsilon = 0.471\n",
            "epoch #7\tmean reward = 13.020\tepsilon = 0.466\n",
            "epoch #8\tmean reward = 13.160\tepsilon = 0.461\n",
            "epoch #9\tmean reward = 12.500\tepsilon = 0.457\n",
            "epoch #10\tmean reward = 12.820\tepsilon = 0.452\n",
            "epoch #11\tmean reward = 13.280\tepsilon = 0.448\n",
            "epoch #12\tmean reward = 12.930\tepsilon = 0.443\n",
            "epoch #13\tmean reward = 12.710\tepsilon = 0.439\n",
            "epoch #14\tmean reward = 12.950\tepsilon = 0.434\n",
            "epoch #15\tmean reward = 12.950\tepsilon = 0.430\n",
            "epoch #16\tmean reward = 12.340\tepsilon = 0.426\n",
            "epoch #17\tmean reward = 12.990\tepsilon = 0.421\n",
            "epoch #18\tmean reward = 12.380\tepsilon = 0.417\n",
            "epoch #19\tmean reward = 12.530\tepsilon = 0.413\n",
            "epoch #20\tmean reward = 12.390\tepsilon = 0.409\n",
            "epoch #21\tmean reward = 12.310\tepsilon = 0.405\n",
            "epoch #22\tmean reward = 13.310\tepsilon = 0.401\n",
            "epoch #23\tmean reward = 12.390\tepsilon = 0.397\n",
            "epoch #24\tmean reward = 12.260\tepsilon = 0.393\n",
            "epoch #25\tmean reward = 12.610\tepsilon = 0.389\n",
            "epoch #26\tmean reward = 12.070\tepsilon = 0.385\n",
            "epoch #27\tmean reward = 12.320\tepsilon = 0.381\n",
            "epoch #28\tmean reward = 12.480\tepsilon = 0.377\n",
            "epoch #29\tmean reward = 11.920\tepsilon = 0.374\n",
            "epoch #30\tmean reward = 12.590\tepsilon = 0.370\n",
            "epoch #31\tmean reward = 12.380\tepsilon = 0.366\n",
            "epoch #32\tmean reward = 12.230\tepsilon = 0.362\n",
            "epoch #33\tmean reward = 13.450\tepsilon = 0.359\n",
            "epoch #34\tmean reward = 13.870\tepsilon = 0.355\n",
            "epoch #35\tmean reward = 16.160\tepsilon = 0.352\n",
            "epoch #36\tmean reward = 22.200\tepsilon = 0.348\n",
            "epoch #37\tmean reward = 26.000\tepsilon = 0.345\n",
            "epoch #38\tmean reward = 19.840\tepsilon = 0.341\n",
            "epoch #39\tmean reward = 17.840\tepsilon = 0.338\n",
            "epoch #40\tmean reward = 18.590\tepsilon = 0.334\n",
            "epoch #41\tmean reward = 16.770\tepsilon = 0.331\n",
            "epoch #42\tmean reward = 17.420\tepsilon = 0.328\n",
            "epoch #43\tmean reward = 19.490\tepsilon = 0.325\n",
            "epoch #44\tmean reward = 18.190\tepsilon = 0.321\n",
            "epoch #45\tmean reward = 17.930\tepsilon = 0.318\n",
            "epoch #46\tmean reward = 18.730\tepsilon = 0.315\n",
            "epoch #47\tmean reward = 22.510\tepsilon = 0.312\n",
            "epoch #48\tmean reward = 24.980\tepsilon = 0.309\n",
            "epoch #49\tmean reward = 23.170\tepsilon = 0.306\n",
            "epoch #50\tmean reward = 22.450\tepsilon = 0.303\n",
            "epoch #51\tmean reward = 18.420\tepsilon = 0.299\n",
            "epoch #52\tmean reward = 17.570\tepsilon = 0.296\n",
            "epoch #53\tmean reward = 21.290\tepsilon = 0.294\n",
            "epoch #54\tmean reward = 24.580\tepsilon = 0.291\n",
            "epoch #55\tmean reward = 14.840\tepsilon = 0.288\n",
            "epoch #56\tmean reward = 13.740\tepsilon = 0.285\n",
            "epoch #57\tmean reward = 13.560\tepsilon = 0.282\n",
            "epoch #58\tmean reward = 13.320\tepsilon = 0.279\n",
            "epoch #59\tmean reward = 12.980\tepsilon = 0.276\n",
            "epoch #60\tmean reward = 14.550\tepsilon = 0.274\n",
            "epoch #61\tmean reward = 14.750\tepsilon = 0.271\n",
            "epoch #62\tmean reward = 18.310\tepsilon = 0.268\n",
            "epoch #63\tmean reward = 29.460\tepsilon = 0.265\n",
            "epoch #64\tmean reward = 17.820\tepsilon = 0.263\n",
            "epoch #65\tmean reward = 11.480\tepsilon = 0.260\n",
            "epoch #66\tmean reward = 10.820\tepsilon = 0.258\n",
            "epoch #67\tmean reward = 10.680\tepsilon = 0.255\n",
            "epoch #68\tmean reward = 11.290\tepsilon = 0.252\n",
            "epoch #69\tmean reward = 11.200\tepsilon = 0.250\n",
            "epoch #70\tmean reward = 13.780\tepsilon = 0.247\n",
            "epoch #71\tmean reward = 23.940\tepsilon = 0.245\n",
            "epoch #72\tmean reward = 12.350\tepsilon = 0.242\n",
            "epoch #73\tmean reward = 11.140\tepsilon = 0.240\n",
            "epoch #74\tmean reward = 11.560\tepsilon = 0.238\n",
            "epoch #75\tmean reward = 10.720\tepsilon = 0.235\n",
            "epoch #76\tmean reward = 11.150\tepsilon = 0.233\n",
            "epoch #77\tmean reward = 10.920\tepsilon = 0.231\n",
            "epoch #78\tmean reward = 10.840\tepsilon = 0.228\n",
            "epoch #79\tmean reward = 11.200\tepsilon = 0.226\n",
            "epoch #80\tmean reward = 11.280\tepsilon = 0.224\n",
            "epoch #81\tmean reward = 11.720\tepsilon = 0.222\n",
            "epoch #82\tmean reward = 15.540\tepsilon = 0.219\n",
            "epoch #83\tmean reward = 29.030\tepsilon = 0.217\n",
            "epoch #84\tmean reward = 10.850\tepsilon = 0.215\n",
            "epoch #85\tmean reward = 10.490\tepsilon = 0.213\n",
            "epoch #86\tmean reward = 10.740\tepsilon = 0.211\n",
            "epoch #87\tmean reward = 10.890\tepsilon = 0.209\n",
            "epoch #88\tmean reward = 10.930\tepsilon = 0.206\n",
            "epoch #89\tmean reward = 10.690\tepsilon = 0.204\n",
            "epoch #90\tmean reward = 11.270\tepsilon = 0.202\n",
            "epoch #91\tmean reward = 20.850\tepsilon = 0.200\n",
            "epoch #92\tmean reward = 15.740\tepsilon = 0.198\n",
            "epoch #93\tmean reward = 11.510\tepsilon = 0.196\n",
            "epoch #94\tmean reward = 10.710\tepsilon = 0.194\n",
            "epoch #95\tmean reward = 10.550\tepsilon = 0.192\n",
            "epoch #96\tmean reward = 10.320\tepsilon = 0.191\n",
            "epoch #97\tmean reward = 10.540\tepsilon = 0.189\n",
            "epoch #98\tmean reward = 10.410\tepsilon = 0.187\n",
            "epoch #99\tmean reward = 10.720\tepsilon = 0.185\n",
            "epoch #100\tmean reward = 10.900\tepsilon = 0.183\n",
            "epoch #101\tmean reward = 13.600\tepsilon = 0.181\n",
            "epoch #102\tmean reward = 22.860\tepsilon = 0.179\n",
            "epoch #103\tmean reward = 10.730\tepsilon = 0.178\n",
            "epoch #104\tmean reward = 10.410\tepsilon = 0.176\n",
            "epoch #105\tmean reward = 10.260\tepsilon = 0.174\n",
            "epoch #106\tmean reward = 10.640\tepsilon = 0.172\n",
            "epoch #107\tmean reward = 10.530\tepsilon = 0.171\n",
            "epoch #108\tmean reward = 10.860\tepsilon = 0.169\n",
            "epoch #109\tmean reward = 20.750\tepsilon = 0.167\n",
            "epoch #110\tmean reward = 12.830\tepsilon = 0.166\n",
            "epoch #111\tmean reward = 10.530\tepsilon = 0.164\n",
            "epoch #112\tmean reward = 10.200\tepsilon = 0.162\n",
            "epoch #113\tmean reward = 10.280\tepsilon = 0.161\n",
            "epoch #114\tmean reward = 10.510\tepsilon = 0.159\n",
            "epoch #115\tmean reward = 10.550\tepsilon = 0.157\n",
            "epoch #116\tmean reward = 10.810\tepsilon = 0.156\n",
            "epoch #117\tmean reward = 12.030\tepsilon = 0.154\n",
            "epoch #118\tmean reward = 25.530\tepsilon = 0.153\n",
            "epoch #119\tmean reward = 10.930\tepsilon = 0.151\n",
            "epoch #120\tmean reward = 10.330\tepsilon = 0.150\n",
            "epoch #121\tmean reward = 10.000\tepsilon = 0.148\n",
            "epoch #122\tmean reward = 10.070\tepsilon = 0.147\n",
            "epoch #123\tmean reward = 10.640\tepsilon = 0.145\n",
            "epoch #124\tmean reward = 15.010\tepsilon = 0.144\n",
            "epoch #125\tmean reward = 16.680\tepsilon = 0.142\n",
            "epoch #126\tmean reward = 10.520\tepsilon = 0.141\n",
            "epoch #127\tmean reward = 10.600\tepsilon = 0.140\n",
            "epoch #128\tmean reward = 10.500\tepsilon = 0.138\n",
            "epoch #129\tmean reward = 10.590\tepsilon = 0.137\n",
            "epoch #130\tmean reward = 11.970\tepsilon = 0.135\n",
            "epoch #131\tmean reward = 22.310\tepsilon = 0.134\n",
            "epoch #132\tmean reward = 20.810\tepsilon = 0.133\n",
            "epoch #133\tmean reward = 10.560\tepsilon = 0.131\n",
            "epoch #134\tmean reward = 10.280\tepsilon = 0.130\n",
            "epoch #135\tmean reward = 10.340\tepsilon = 0.129\n",
            "epoch #136\tmean reward = 10.440\tepsilon = 0.127\n",
            "epoch #137\tmean reward = 26.070\tepsilon = 0.126\n",
            "epoch #138\tmean reward = 30.850\tepsilon = 0.125\n",
            "epoch #139\tmean reward = 12.190\tepsilon = 0.124\n",
            "epoch #140\tmean reward = 11.290\tepsilon = 0.122\n",
            "epoch #141\tmean reward = 11.100\tepsilon = 0.121\n",
            "epoch #142\tmean reward = 11.360\tepsilon = 0.120\n",
            "epoch #143\tmean reward = 10.990\tepsilon = 0.119\n",
            "epoch #144\tmean reward = 12.440\tepsilon = 0.118\n",
            "epoch #145\tmean reward = 36.190\tepsilon = 0.116\n",
            "epoch #146\tmean reward = 18.460\tepsilon = 0.115\n",
            "epoch #147\tmean reward = 10.740\tepsilon = 0.114\n",
            "epoch #148\tmean reward = 10.110\tepsilon = 0.113\n",
            "epoch #149\tmean reward = 10.130\tepsilon = 0.112\n",
            "epoch #150\tmean reward = 11.980\tepsilon = 0.111\n",
            "epoch #151\tmean reward = 32.610\tepsilon = 0.110\n",
            "epoch #152\tmean reward = 12.580\tepsilon = 0.109\n",
            "epoch #153\tmean reward = 11.430\tepsilon = 0.107\n",
            "epoch #154\tmean reward = 11.200\tepsilon = 0.106\n",
            "epoch #155\tmean reward = 11.180\tepsilon = 0.105\n",
            "epoch #156\tmean reward = 11.340\tepsilon = 0.104\n",
            "epoch #157\tmean reward = 11.640\tepsilon = 0.103\n",
            "epoch #158\tmean reward = 12.560\tepsilon = 0.102\n",
            "epoch #159\tmean reward = 26.840\tepsilon = 0.101\n",
            "epoch #160\tmean reward = 27.180\tepsilon = 0.100\n",
            "epoch #161\tmean reward = 13.740\tepsilon = 0.099\n",
            "epoch #162\tmean reward = 10.580\tepsilon = 0.098\n",
            "epoch #163\tmean reward = 10.250\tepsilon = 0.097\n",
            "epoch #164\tmean reward = 11.570\tepsilon = 0.096\n",
            "epoch #165\tmean reward = 16.750\tepsilon = 0.095\n",
            "epoch #166\tmean reward = 52.330\tepsilon = 0.094\n",
            "epoch #167\tmean reward = 34.090\tepsilon = 0.093\n",
            "epoch #168\tmean reward = 20.970\tepsilon = 0.092\n",
            "epoch #169\tmean reward = 14.050\tepsilon = 0.091\n",
            "epoch #170\tmean reward = 13.030\tepsilon = 0.091\n",
            "epoch #171\tmean reward = 15.030\tepsilon = 0.090\n",
            "epoch #172\tmean reward = 25.460\tepsilon = 0.089\n",
            "epoch #173\tmean reward = 34.640\tepsilon = 0.088\n",
            "epoch #174\tmean reward = 19.070\tepsilon = 0.087\n",
            "epoch #175\tmean reward = 14.100\tepsilon = 0.086\n",
            "epoch #176\tmean reward = 16.730\tepsilon = 0.085\n",
            "epoch #177\tmean reward = 21.360\tepsilon = 0.084\n",
            "epoch #178\tmean reward = 21.790\tepsilon = 0.084\n",
            "epoch #179\tmean reward = 14.130\tepsilon = 0.083\n",
            "epoch #180\tmean reward = 12.770\tepsilon = 0.082\n",
            "epoch #181\tmean reward = 24.450\tepsilon = 0.081\n",
            "epoch #182\tmean reward = 54.880\tepsilon = 0.080\n",
            "epoch #183\tmean reward = 25.660\tepsilon = 0.079\n",
            "epoch #184\tmean reward = 14.140\tepsilon = 0.079\n",
            "epoch #185\tmean reward = 17.060\tepsilon = 0.078\n",
            "epoch #186\tmean reward = 42.570\tepsilon = 0.077\n",
            "epoch #187\tmean reward = 38.290\tepsilon = 0.076\n",
            "epoch #188\tmean reward = 16.130\tepsilon = 0.076\n",
            "epoch #189\tmean reward = 23.410\tepsilon = 0.075\n",
            "epoch #190\tmean reward = 39.710\tepsilon = 0.074\n",
            "epoch #191\tmean reward = 17.640\tepsilon = 0.073\n",
            "epoch #192\tmean reward = 28.210\tepsilon = 0.073\n",
            "epoch #193\tmean reward = 30.630\tepsilon = 0.072\n",
            "epoch #194\tmean reward = 20.560\tepsilon = 0.071\n",
            "epoch #195\tmean reward = 27.730\tepsilon = 0.070\n",
            "epoch #196\tmean reward = 22.480\tepsilon = 0.070\n",
            "epoch #197\tmean reward = 23.250\tepsilon = 0.069\n",
            "epoch #198\tmean reward = 25.330\tepsilon = 0.068\n",
            "epoch #199\tmean reward = 31.540\tepsilon = 0.068\n",
            "epoch #200\tmean reward = 34.930\tepsilon = 0.067\n",
            "epoch #201\tmean reward = 25.860\tepsilon = 0.066\n",
            "epoch #202\tmean reward = 37.990\tepsilon = 0.066\n",
            "epoch #203\tmean reward = 32.990\tepsilon = 0.065\n",
            "epoch #204\tmean reward = 36.160\tepsilon = 0.064\n",
            "epoch #205\tmean reward = 40.690\tepsilon = 0.064\n",
            "epoch #206\tmean reward = 45.370\tepsilon = 0.063\n",
            "epoch #207\tmean reward = 47.320\tepsilon = 0.062\n",
            "epoch #208\tmean reward = 48.390\tepsilon = 0.062\n",
            "epoch #209\tmean reward = 52.890\tepsilon = 0.061\n",
            "epoch #210\tmean reward = 60.310\tepsilon = 0.061\n",
            "epoch #211\tmean reward = 73.830\tepsilon = 0.060\n",
            "epoch #212\tmean reward = 108.650\tepsilon = 0.059\n",
            "epoch #213\tmean reward = 88.040\tepsilon = 0.059\n",
            "epoch #214\tmean reward = 81.510\tepsilon = 0.058\n",
            "epoch #215\tmean reward = 83.810\tepsilon = 0.058\n",
            "epoch #216\tmean reward = 93.220\tepsilon = 0.057\n",
            "epoch #217\tmean reward = 108.460\tepsilon = 0.056\n",
            "epoch #218\tmean reward = 142.670\tepsilon = 0.056\n",
            "epoch #219\tmean reward = 144.880\tepsilon = 0.055\n",
            "epoch #220\tmean reward = 147.150\tepsilon = 0.055\n",
            "epoch #221\tmean reward = 165.330\tepsilon = 0.054\n",
            "epoch #222\tmean reward = 211.080\tepsilon = 0.054\n",
            "epoch #223\tmean reward = 234.240\tepsilon = 0.053\n",
            "epoch #224\tmean reward = 269.060\tepsilon = 0.053\n",
            "epoch #225\tmean reward = 306.220\tepsilon = 0.052\n",
            "You Win!\n"
          ]
        }
      ],
      "source": [
        "for i in range(1000):\n",
        "    session_rewards = [generate_session(env, epsilon=epsilon, train=True) for _ in range(100)]\n",
        "    print(\"epoch #{}\\tmean reward = {:.3f}\\tepsilon = {:.3f}\".format(i, np.mean(session_rewards), epsilon))\n",
        "\n",
        "    epsilon *= 0.99\n",
        "    assert epsilon >= 1e-4, \"Make sure epsilon is always nonzero during training\"\n",
        "\n",
        "    if np.mean(session_rewards) > 300:\n",
        "        print(\"You Win!\")\n",
        "        break"
      ]
    },
    {
      "cell_type": "markdown",
      "metadata": {
        "id": "XJPoF9XtEmiB"
      },
      "source": [
        "### How to interpret results\n",
        "\n",
        "\n",
        "Welcome to the f.. world of deep f...n reinforcement learning. Don't expect agent's reward to smoothly go up. Hope for it to go increase eventually. If it deems you worthy.\n",
        "\n",
        "Seriously though,\n",
        "* __ mean reward__ is the average reward per game. For a correct implementation it may stay low for some 10 epochs, then start growing while oscilating insanely and converges by ~50-100 steps depending on the network architecture.\n",
        "* If it never reaches target score by the end of for loop, try increasing the number of hidden neurons or look at the epsilon.\n",
        "* __ epsilon__ - agent's willingness to explore. If you see that agent's already at < 0.01 epsilon before it's is at least 200, just reset it back to 0.1 - 0.5."
      ]
    },
    {
      "cell_type": "markdown",
      "metadata": {
        "id": "lhKiN-qOEmiB"
      },
      "source": [
        "### Record videos\n",
        "\n",
        "As usual, we now use `gymnasium.wrappers.RecordVideo` to record a video of our agent playing the game. Unlike our previous attempts with state binarization, this time we expect our agent to act ~~(or fail)~~ more smoothly since there's no more binarization error at play.\n",
        "\n",
        "As you already did with tabular q-learning, we set epsilon=0 for final evaluation to prevent agent from exploring himself to death."
      ]
    },
    {
      "cell_type": "code",
      "execution_count": 35,
      "metadata": {
        "id": "2yqPkj6HEmiB"
      },
      "outputs": [
        {
          "name": "stdout",
          "output_type": "stream",
          "text": [
            "Moviepy - Building video /home/khaymonenko/Practical_RL/week04_approx_rl/videos/rl-video-episode-0.mp4.\n",
            "Moviepy - Writing video /home/khaymonenko/Practical_RL/week04_approx_rl/videos/rl-video-episode-0.mp4\n",
            "\n"
          ]
        },
        {
          "ename": "TypeError",
          "evalue": "must be real number, not NoneType",
          "output_type": "error",
          "traceback": [
            "\u001b[0;31m---------------------------------------------------------------------------\u001b[0m",
            "\u001b[0;31mTypeError\u001b[0m                                 Traceback (most recent call last)",
            "\u001b[1;32m/home/khaymonenko/Practical_RL/week04_approx_rl/seminar_pytorch.ipynb Cell 21\u001b[0m line \u001b[0;36m8\n\u001b[1;32m      <a href='vscode-notebook-cell:/home/khaymonenko/Practical_RL/week04_approx_rl/seminar_pytorch.ipynb#X26sZmlsZQ%3D%3D?line=4'>5</a>\u001b[0m record_env \u001b[39m=\u001b[39m gym\u001b[39m.\u001b[39mmake(\u001b[39m\"\u001b[39m\u001b[39mCartPole-v0\u001b[39m\u001b[39m\"\u001b[39m, render_mode\u001b[39m=\u001b[39m\u001b[39m\"\u001b[39m\u001b[39mrgb_array\u001b[39m\u001b[39m\"\u001b[39m)\n\u001b[1;32m      <a href='vscode-notebook-cell:/home/khaymonenko/Practical_RL/week04_approx_rl/seminar_pytorch.ipynb#X26sZmlsZQ%3D%3D?line=5'>6</a>\u001b[0m env_monitor \u001b[39m=\u001b[39m RecordVideo(record_env, video_folder\u001b[39m=\u001b[39m\u001b[39m\"\u001b[39m\u001b[39mvideos\u001b[39m\u001b[39m\"\u001b[39m)\n\u001b[0;32m----> <a href='vscode-notebook-cell:/home/khaymonenko/Practical_RL/week04_approx_rl/seminar_pytorch.ipynb#X26sZmlsZQ%3D%3D?line=7'>8</a>\u001b[0m sessions \u001b[39m=\u001b[39m [generate_session(env_monitor, epsilon\u001b[39m=\u001b[39m\u001b[39m0\u001b[39m, train\u001b[39m=\u001b[39m\u001b[39mFalse\u001b[39;00m) \u001b[39mfor\u001b[39;00m _ \u001b[39min\u001b[39;00m \u001b[39mrange\u001b[39m(\u001b[39m100\u001b[39m)]\n\u001b[1;32m     <a href='vscode-notebook-cell:/home/khaymonenko/Practical_RL/week04_approx_rl/seminar_pytorch.ipynb#X26sZmlsZQ%3D%3D?line=9'>10</a>\u001b[0m \u001b[39m# with  as record_env,  as env_monitor:\u001b[39;00m\n\u001b[1;32m     <a href='vscode-notebook-cell:/home/khaymonenko/Practical_RL/week04_approx_rl/seminar_pytorch.ipynb#X26sZmlsZQ%3D%3D?line=10'>11</a>\u001b[0m \u001b[39m#     sessions = [\u001b[39;00m\n\u001b[1;32m     <a href='vscode-notebook-cell:/home/khaymonenko/Practical_RL/week04_approx_rl/seminar_pytorch.ipynb#X26sZmlsZQ%3D%3D?line=11'>12</a>\u001b[0m \u001b[39m#         generate_session(env_monitor, epsilon=0, train=False) for _ in range(100)\u001b[39;00m\n\u001b[1;32m     <a href='vscode-notebook-cell:/home/khaymonenko/Practical_RL/week04_approx_rl/seminar_pytorch.ipynb#X26sZmlsZQ%3D%3D?line=12'>13</a>\u001b[0m \u001b[39m#     ]\u001b[39;00m\n",
            "\u001b[1;32m/home/khaymonenko/Practical_RL/week04_approx_rl/seminar_pytorch.ipynb Cell 21\u001b[0m line \u001b[0;36m8\n\u001b[1;32m      <a href='vscode-notebook-cell:/home/khaymonenko/Practical_RL/week04_approx_rl/seminar_pytorch.ipynb#X26sZmlsZQ%3D%3D?line=4'>5</a>\u001b[0m record_env \u001b[39m=\u001b[39m gym\u001b[39m.\u001b[39mmake(\u001b[39m\"\u001b[39m\u001b[39mCartPole-v0\u001b[39m\u001b[39m\"\u001b[39m, render_mode\u001b[39m=\u001b[39m\u001b[39m\"\u001b[39m\u001b[39mrgb_array\u001b[39m\u001b[39m\"\u001b[39m)\n\u001b[1;32m      <a href='vscode-notebook-cell:/home/khaymonenko/Practical_RL/week04_approx_rl/seminar_pytorch.ipynb#X26sZmlsZQ%3D%3D?line=5'>6</a>\u001b[0m env_monitor \u001b[39m=\u001b[39m RecordVideo(record_env, video_folder\u001b[39m=\u001b[39m\u001b[39m\"\u001b[39m\u001b[39mvideos\u001b[39m\u001b[39m\"\u001b[39m)\n\u001b[0;32m----> <a href='vscode-notebook-cell:/home/khaymonenko/Practical_RL/week04_approx_rl/seminar_pytorch.ipynb#X26sZmlsZQ%3D%3D?line=7'>8</a>\u001b[0m sessions \u001b[39m=\u001b[39m [generate_session(env_monitor, epsilon\u001b[39m=\u001b[39;49m\u001b[39m0\u001b[39;49m, train\u001b[39m=\u001b[39;49m\u001b[39mFalse\u001b[39;49;00m) \u001b[39mfor\u001b[39;00m _ \u001b[39min\u001b[39;00m \u001b[39mrange\u001b[39m(\u001b[39m100\u001b[39m)]\n\u001b[1;32m     <a href='vscode-notebook-cell:/home/khaymonenko/Practical_RL/week04_approx_rl/seminar_pytorch.ipynb#X26sZmlsZQ%3D%3D?line=9'>10</a>\u001b[0m \u001b[39m# with  as record_env,  as env_monitor:\u001b[39;00m\n\u001b[1;32m     <a href='vscode-notebook-cell:/home/khaymonenko/Practical_RL/week04_approx_rl/seminar_pytorch.ipynb#X26sZmlsZQ%3D%3D?line=10'>11</a>\u001b[0m \u001b[39m#     sessions = [\u001b[39;00m\n\u001b[1;32m     <a href='vscode-notebook-cell:/home/khaymonenko/Practical_RL/week04_approx_rl/seminar_pytorch.ipynb#X26sZmlsZQ%3D%3D?line=11'>12</a>\u001b[0m \u001b[39m#         generate_session(env_monitor, epsilon=0, train=False) for _ in range(100)\u001b[39;00m\n\u001b[1;32m     <a href='vscode-notebook-cell:/home/khaymonenko/Practical_RL/week04_approx_rl/seminar_pytorch.ipynb#X26sZmlsZQ%3D%3D?line=12'>13</a>\u001b[0m \u001b[39m#     ]\u001b[39;00m\n",
            "\u001b[1;32m/home/khaymonenko/Practical_RL/week04_approx_rl/seminar_pytorch.ipynb Cell 21\u001b[0m line \u001b[0;36m8\n\u001b[1;32m      <a href='vscode-notebook-cell:/home/khaymonenko/Practical_RL/week04_approx_rl/seminar_pytorch.ipynb#X26sZmlsZQ%3D%3D?line=5'>6</a>\u001b[0m \u001b[39mfor\u001b[39;00m t \u001b[39min\u001b[39;00m \u001b[39mrange\u001b[39m(t_max):\n\u001b[1;32m      <a href='vscode-notebook-cell:/home/khaymonenko/Practical_RL/week04_approx_rl/seminar_pytorch.ipynb#X26sZmlsZQ%3D%3D?line=6'>7</a>\u001b[0m     a \u001b[39m=\u001b[39m get_action(s, epsilon\u001b[39m=\u001b[39mepsilon)\n\u001b[0;32m----> <a href='vscode-notebook-cell:/home/khaymonenko/Practical_RL/week04_approx_rl/seminar_pytorch.ipynb#X26sZmlsZQ%3D%3D?line=7'>8</a>\u001b[0m     next_s, r, terminated, truncated, _ \u001b[39m=\u001b[39m env\u001b[39m.\u001b[39;49mstep(a)\n\u001b[1;32m     <a href='vscode-notebook-cell:/home/khaymonenko/Practical_RL/week04_approx_rl/seminar_pytorch.ipynb#X26sZmlsZQ%3D%3D?line=9'>10</a>\u001b[0m     \u001b[39mif\u001b[39;00m train:\n\u001b[1;32m     <a href='vscode-notebook-cell:/home/khaymonenko/Practical_RL/week04_approx_rl/seminar_pytorch.ipynb#X26sZmlsZQ%3D%3D?line=10'>11</a>\u001b[0m         opt\u001b[39m.\u001b[39mzero_grad()\n",
            "File \u001b[0;32m~/.local/lib/python3.10/site-packages/gymnasium/wrappers/record_video.py:191\u001b[0m, in \u001b[0;36mRecordVideo.step\u001b[0;34m(self, action)\u001b[0m\n\u001b[1;32m    189\u001b[0m \u001b[39mif\u001b[39;00m \u001b[39mnot\u001b[39;00m \u001b[39mself\u001b[39m\u001b[39m.\u001b[39mis_vector_env:\n\u001b[1;32m    190\u001b[0m     \u001b[39mif\u001b[39;00m terminateds \u001b[39mor\u001b[39;00m truncateds:\n\u001b[0;32m--> 191\u001b[0m         \u001b[39mself\u001b[39;49m\u001b[39m.\u001b[39;49mclose_video_recorder()\n\u001b[1;32m    192\u001b[0m \u001b[39melif\u001b[39;00m terminateds[\u001b[39m0\u001b[39m] \u001b[39mor\u001b[39;00m truncateds[\u001b[39m0\u001b[39m]:\n\u001b[1;32m    193\u001b[0m     \u001b[39mself\u001b[39m\u001b[39m.\u001b[39mclose_video_recorder()\n",
            "File \u001b[0;32m~/.local/lib/python3.10/site-packages/gymnasium/wrappers/record_video.py:204\u001b[0m, in \u001b[0;36mRecordVideo.close_video_recorder\u001b[0;34m(self)\u001b[0m\n\u001b[1;32m    202\u001b[0m \u001b[39mif\u001b[39;00m \u001b[39mself\u001b[39m\u001b[39m.\u001b[39mrecording:\n\u001b[1;32m    203\u001b[0m     \u001b[39massert\u001b[39;00m \u001b[39mself\u001b[39m\u001b[39m.\u001b[39mvideo_recorder \u001b[39mis\u001b[39;00m \u001b[39mnot\u001b[39;00m \u001b[39mNone\u001b[39;00m\n\u001b[0;32m--> 204\u001b[0m     \u001b[39mself\u001b[39;49m\u001b[39m.\u001b[39;49mvideo_recorder\u001b[39m.\u001b[39;49mclose()\n\u001b[1;32m    205\u001b[0m \u001b[39mself\u001b[39m\u001b[39m.\u001b[39mrecording \u001b[39m=\u001b[39m \u001b[39mFalse\u001b[39;00m\n\u001b[1;32m    206\u001b[0m \u001b[39mself\u001b[39m\u001b[39m.\u001b[39mrecorded_frames \u001b[39m=\u001b[39m \u001b[39m1\u001b[39m\n",
            "File \u001b[0;32m~/.local/lib/python3.10/site-packages/gymnasium/wrappers/monitoring/video_recorder.py:157\u001b[0m, in \u001b[0;36mVideoRecorder.close\u001b[0;34m(self)\u001b[0m\n\u001b[1;32m    155\u001b[0m     clip \u001b[39m=\u001b[39m ImageSequenceClip(\u001b[39mself\u001b[39m\u001b[39m.\u001b[39mrecorded_frames, fps\u001b[39m=\u001b[39m\u001b[39mself\u001b[39m\u001b[39m.\u001b[39mframes_per_sec)\n\u001b[1;32m    156\u001b[0m     moviepy_logger \u001b[39m=\u001b[39m \u001b[39mNone\u001b[39;00m \u001b[39mif\u001b[39;00m \u001b[39mself\u001b[39m\u001b[39m.\u001b[39mdisable_logger \u001b[39melse\u001b[39;00m \u001b[39m\"\u001b[39m\u001b[39mbar\u001b[39m\u001b[39m\"\u001b[39m\n\u001b[0;32m--> 157\u001b[0m     clip\u001b[39m.\u001b[39;49mwrite_videofile(\u001b[39mself\u001b[39;49m\u001b[39m.\u001b[39;49mpath, logger\u001b[39m=\u001b[39;49mmoviepy_logger)\n\u001b[1;32m    158\u001b[0m \u001b[39melse\u001b[39;00m:\n\u001b[1;32m    159\u001b[0m     \u001b[39m# No frames captured. Set metadata.\u001b[39;00m\n\u001b[1;32m    160\u001b[0m     \u001b[39mif\u001b[39;00m \u001b[39mself\u001b[39m\u001b[39m.\u001b[39mmetadata \u001b[39mis\u001b[39;00m \u001b[39mNone\u001b[39;00m:\n",
            "File \u001b[0;32m~/.local/lib/python3.10/site-packages/decorator.py:232\u001b[0m, in \u001b[0;36mfun\u001b[0;34m(*args, **kw)\u001b[0m\n\u001b[1;32m    230\u001b[0m evaldict \u001b[39m=\u001b[39m \u001b[39mdict\u001b[39m(_call_\u001b[39m=\u001b[39mcaller, _func_\u001b[39m=\u001b[39mfunc)\n\u001b[1;32m    231\u001b[0m es \u001b[39m=\u001b[39m \u001b[39m'\u001b[39m\u001b[39m'\u001b[39m\n\u001b[0;32m--> 232\u001b[0m \u001b[39mfor\u001b[39;00m i, extra \u001b[39min\u001b[39;00m \u001b[39menumerate\u001b[39m(extras):\n\u001b[1;32m    233\u001b[0m     ex \u001b[39m=\u001b[39m \u001b[39m'\u001b[39m\u001b[39m_e\u001b[39m\u001b[39m%d\u001b[39;00m\u001b[39m_\u001b[39m\u001b[39m'\u001b[39m \u001b[39m%\u001b[39m i\n\u001b[1;32m    234\u001b[0m     evaldict[ex] \u001b[39m=\u001b[39m extra\n",
            "File \u001b[0;32m~/.local/lib/python3.10/site-packages/moviepy/decorators.py:54\u001b[0m, in \u001b[0;36mrequires_duration\u001b[0;34m(f, clip, *a, **k)\u001b[0m\n\u001b[1;32m     52\u001b[0m     \u001b[39mraise\u001b[39;00m \u001b[39mValueError\u001b[39;00m(\u001b[39m\"\u001b[39m\u001b[39mAttribute \u001b[39m\u001b[39m'\u001b[39m\u001b[39mduration\u001b[39m\u001b[39m'\u001b[39m\u001b[39m not set\u001b[39m\u001b[39m\"\u001b[39m)\n\u001b[1;32m     53\u001b[0m \u001b[39melse\u001b[39;00m:\n\u001b[0;32m---> 54\u001b[0m     \u001b[39mreturn\u001b[39;00m f(clip, \u001b[39m*\u001b[39;49ma, \u001b[39m*\u001b[39;49m\u001b[39m*\u001b[39;49mk)\n",
            "File \u001b[0;32m~/.local/lib/python3.10/site-packages/decorator.py:232\u001b[0m, in \u001b[0;36mfun\u001b[0;34m(*args, **kw)\u001b[0m\n\u001b[1;32m    230\u001b[0m evaldict \u001b[39m=\u001b[39m \u001b[39mdict\u001b[39m(_call_\u001b[39m=\u001b[39mcaller, _func_\u001b[39m=\u001b[39mfunc)\n\u001b[1;32m    231\u001b[0m es \u001b[39m=\u001b[39m \u001b[39m'\u001b[39m\u001b[39m'\u001b[39m\n\u001b[0;32m--> 232\u001b[0m \u001b[39mfor\u001b[39;00m i, extra \u001b[39min\u001b[39;00m \u001b[39menumerate\u001b[39m(extras):\n\u001b[1;32m    233\u001b[0m     ex \u001b[39m=\u001b[39m \u001b[39m'\u001b[39m\u001b[39m_e\u001b[39m\u001b[39m%d\u001b[39;00m\u001b[39m_\u001b[39m\u001b[39m'\u001b[39m \u001b[39m%\u001b[39m i\n\u001b[1;32m    234\u001b[0m     evaldict[ex] \u001b[39m=\u001b[39m extra\n",
            "File \u001b[0;32m~/.local/lib/python3.10/site-packages/moviepy/decorators.py:135\u001b[0m, in \u001b[0;36muse_clip_fps_by_default\u001b[0;34m(f, clip, *a, **k)\u001b[0m\n\u001b[1;32m    130\u001b[0m new_a \u001b[39m=\u001b[39m [fun(arg) \u001b[39mif\u001b[39;00m (name\u001b[39m==\u001b[39m\u001b[39m'\u001b[39m\u001b[39mfps\u001b[39m\u001b[39m'\u001b[39m) \u001b[39melse\u001b[39;00m arg\n\u001b[1;32m    131\u001b[0m          \u001b[39mfor\u001b[39;00m (arg, name) \u001b[39min\u001b[39;00m \u001b[39mzip\u001b[39m(a, names)]\n\u001b[1;32m    132\u001b[0m new_kw \u001b[39m=\u001b[39m {k: fun(v) \u001b[39mif\u001b[39;00m k\u001b[39m==\u001b[39m\u001b[39m'\u001b[39m\u001b[39mfps\u001b[39m\u001b[39m'\u001b[39m \u001b[39melse\u001b[39;00m v\n\u001b[1;32m    133\u001b[0m          \u001b[39mfor\u001b[39;00m (k,v) \u001b[39min\u001b[39;00m k\u001b[39m.\u001b[39mitems()}\n\u001b[0;32m--> 135\u001b[0m \u001b[39mreturn\u001b[39;00m f(clip, \u001b[39m*\u001b[39;49mnew_a, \u001b[39m*\u001b[39;49m\u001b[39m*\u001b[39;49mnew_kw)\n",
            "File \u001b[0;32m~/.local/lib/python3.10/site-packages/decorator.py:232\u001b[0m, in \u001b[0;36mfun\u001b[0;34m(*args, **kw)\u001b[0m\n\u001b[1;32m    230\u001b[0m evaldict \u001b[39m=\u001b[39m \u001b[39mdict\u001b[39m(_call_\u001b[39m=\u001b[39mcaller, _func_\u001b[39m=\u001b[39mfunc)\n\u001b[1;32m    231\u001b[0m es \u001b[39m=\u001b[39m \u001b[39m'\u001b[39m\u001b[39m'\u001b[39m\n\u001b[0;32m--> 232\u001b[0m \u001b[39mfor\u001b[39;00m i, extra \u001b[39min\u001b[39;00m \u001b[39menumerate\u001b[39m(extras):\n\u001b[1;32m    233\u001b[0m     ex \u001b[39m=\u001b[39m \u001b[39m'\u001b[39m\u001b[39m_e\u001b[39m\u001b[39m%d\u001b[39;00m\u001b[39m_\u001b[39m\u001b[39m'\u001b[39m \u001b[39m%\u001b[39m i\n\u001b[1;32m    234\u001b[0m     evaldict[ex] \u001b[39m=\u001b[39m extra\n",
            "File \u001b[0;32m~/.local/lib/python3.10/site-packages/moviepy/decorators.py:22\u001b[0m, in \u001b[0;36mconvert_masks_to_RGB\u001b[0;34m(f, clip, *a, **k)\u001b[0m\n\u001b[1;32m     20\u001b[0m \u001b[39mif\u001b[39;00m clip\u001b[39m.\u001b[39mismask:\n\u001b[1;32m     21\u001b[0m     clip \u001b[39m=\u001b[39m clip\u001b[39m.\u001b[39mto_RGB()\n\u001b[0;32m---> 22\u001b[0m \u001b[39mreturn\u001b[39;00m f(clip, \u001b[39m*\u001b[39;49ma, \u001b[39m*\u001b[39;49m\u001b[39m*\u001b[39;49mk)\n",
            "File \u001b[0;32m~/.local/lib/python3.10/site-packages/moviepy/video/VideoClip.py:300\u001b[0m, in \u001b[0;36mVideoClip.write_videofile\u001b[0;34m(self, filename, fps, codec, bitrate, audio, audio_fps, preset, audio_nbytes, audio_codec, audio_bitrate, audio_bufsize, temp_audiofile, rewrite_audio, remove_temp, write_logfile, verbose, threads, ffmpeg_params, logger)\u001b[0m\n\u001b[1;32m    292\u001b[0m \u001b[39mif\u001b[39;00m make_audio:\n\u001b[1;32m    293\u001b[0m     \u001b[39mself\u001b[39m\u001b[39m.\u001b[39maudio\u001b[39m.\u001b[39mwrite_audiofile(audiofile, audio_fps,\n\u001b[1;32m    294\u001b[0m                                audio_nbytes, audio_bufsize,\n\u001b[1;32m    295\u001b[0m                                audio_codec, bitrate\u001b[39m=\u001b[39maudio_bitrate,\n\u001b[1;32m    296\u001b[0m                                write_logfile\u001b[39m=\u001b[39mwrite_logfile,\n\u001b[1;32m    297\u001b[0m                                verbose\u001b[39m=\u001b[39mverbose,\n\u001b[1;32m    298\u001b[0m                                logger\u001b[39m=\u001b[39mlogger)\n\u001b[0;32m--> 300\u001b[0m ffmpeg_write_video(\u001b[39mself\u001b[39;49m, filename, fps, codec,\n\u001b[1;32m    301\u001b[0m                    bitrate\u001b[39m=\u001b[39;49mbitrate,\n\u001b[1;32m    302\u001b[0m                    preset\u001b[39m=\u001b[39;49mpreset,\n\u001b[1;32m    303\u001b[0m                    write_logfile\u001b[39m=\u001b[39;49mwrite_logfile,\n\u001b[1;32m    304\u001b[0m                    audiofile\u001b[39m=\u001b[39;49maudiofile,\n\u001b[1;32m    305\u001b[0m                    verbose\u001b[39m=\u001b[39;49mverbose, threads\u001b[39m=\u001b[39;49mthreads,\n\u001b[1;32m    306\u001b[0m                    ffmpeg_params\u001b[39m=\u001b[39;49mffmpeg_params,\n\u001b[1;32m    307\u001b[0m                    logger\u001b[39m=\u001b[39;49mlogger)\n\u001b[1;32m    309\u001b[0m \u001b[39mif\u001b[39;00m remove_temp \u001b[39mand\u001b[39;00m make_audio:\n\u001b[1;32m    310\u001b[0m     \u001b[39mif\u001b[39;00m os\u001b[39m.\u001b[39mpath\u001b[39m.\u001b[39mexists(audiofile):\n",
            "File \u001b[0;32m~/.local/lib/python3.10/site-packages/moviepy/video/io/ffmpeg_writer.py:213\u001b[0m, in \u001b[0;36mffmpeg_write_video\u001b[0;34m(clip, filename, fps, codec, bitrate, preset, withmask, write_logfile, audiofile, verbose, threads, ffmpeg_params, logger)\u001b[0m\n\u001b[1;32m    211\u001b[0m     logfile \u001b[39m=\u001b[39m \u001b[39mNone\u001b[39;00m\n\u001b[1;32m    212\u001b[0m logger(message\u001b[39m=\u001b[39m\u001b[39m'\u001b[39m\u001b[39mMoviepy - Writing video \u001b[39m\u001b[39m%s\u001b[39;00m\u001b[39m\\n\u001b[39;00m\u001b[39m'\u001b[39m \u001b[39m%\u001b[39m filename)\n\u001b[0;32m--> 213\u001b[0m \u001b[39mwith\u001b[39;00m FFMPEG_VideoWriter(filename, clip\u001b[39m.\u001b[39;49msize, fps, codec \u001b[39m=\u001b[39;49m codec,\n\u001b[1;32m    214\u001b[0m                             preset\u001b[39m=\u001b[39;49mpreset, bitrate\u001b[39m=\u001b[39;49mbitrate, logfile\u001b[39m=\u001b[39;49mlogfile,\n\u001b[1;32m    215\u001b[0m                             audiofile\u001b[39m=\u001b[39;49maudiofile, threads\u001b[39m=\u001b[39;49mthreads,\n\u001b[1;32m    216\u001b[0m                             ffmpeg_params\u001b[39m=\u001b[39;49mffmpeg_params) \u001b[39mas\u001b[39;00m writer:\n\u001b[1;32m    218\u001b[0m     nframes \u001b[39m=\u001b[39m \u001b[39mint\u001b[39m(clip\u001b[39m.\u001b[39mduration\u001b[39m*\u001b[39mfps)\n\u001b[1;32m    220\u001b[0m     \u001b[39mfor\u001b[39;00m t,frame \u001b[39min\u001b[39;00m clip\u001b[39m.\u001b[39miter_frames(logger\u001b[39m=\u001b[39mlogger, with_times\u001b[39m=\u001b[39m\u001b[39mTrue\u001b[39;00m,\n\u001b[1;32m    221\u001b[0m                                     fps\u001b[39m=\u001b[39mfps, dtype\u001b[39m=\u001b[39m\u001b[39m\"\u001b[39m\u001b[39muint8\u001b[39m\u001b[39m\"\u001b[39m):\n",
            "File \u001b[0;32m~/.local/lib/python3.10/site-packages/moviepy/video/io/ffmpeg_writer.py:88\u001b[0m, in \u001b[0;36mFFMPEG_VideoWriter.__init__\u001b[0;34m(self, filename, size, fps, codec, audiofile, preset, bitrate, withmask, logfile, threads, ffmpeg_params)\u001b[0m\n\u001b[1;32m     77\u001b[0m \u001b[39mself\u001b[39m\u001b[39m.\u001b[39mext \u001b[39m=\u001b[39m \u001b[39mself\u001b[39m\u001b[39m.\u001b[39mfilename\u001b[39m.\u001b[39msplit(\u001b[39m\"\u001b[39m\u001b[39m.\u001b[39m\u001b[39m\"\u001b[39m)[\u001b[39m-\u001b[39m\u001b[39m1\u001b[39m]\n\u001b[1;32m     79\u001b[0m \u001b[39m# order is important\u001b[39;00m\n\u001b[1;32m     80\u001b[0m cmd \u001b[39m=\u001b[39m [\n\u001b[1;32m     81\u001b[0m     get_setting(\u001b[39m\"\u001b[39m\u001b[39mFFMPEG_BINARY\u001b[39m\u001b[39m\"\u001b[39m),\n\u001b[1;32m     82\u001b[0m     \u001b[39m'\u001b[39m\u001b[39m-y\u001b[39m\u001b[39m'\u001b[39m,\n\u001b[1;32m     83\u001b[0m     \u001b[39m'\u001b[39m\u001b[39m-loglevel\u001b[39m\u001b[39m'\u001b[39m, \u001b[39m'\u001b[39m\u001b[39merror\u001b[39m\u001b[39m'\u001b[39m \u001b[39mif\u001b[39;00m logfile \u001b[39m==\u001b[39m sp\u001b[39m.\u001b[39mPIPE \u001b[39melse\u001b[39;00m \u001b[39m'\u001b[39m\u001b[39minfo\u001b[39m\u001b[39m'\u001b[39m,\n\u001b[1;32m     84\u001b[0m     \u001b[39m'\u001b[39m\u001b[39m-f\u001b[39m\u001b[39m'\u001b[39m, \u001b[39m'\u001b[39m\u001b[39mrawvideo\u001b[39m\u001b[39m'\u001b[39m,\n\u001b[1;32m     85\u001b[0m     \u001b[39m'\u001b[39m\u001b[39m-vcodec\u001b[39m\u001b[39m'\u001b[39m, \u001b[39m'\u001b[39m\u001b[39mrawvideo\u001b[39m\u001b[39m'\u001b[39m,\n\u001b[1;32m     86\u001b[0m     \u001b[39m'\u001b[39m\u001b[39m-s\u001b[39m\u001b[39m'\u001b[39m, \u001b[39m'\u001b[39m\u001b[39m%d\u001b[39;00m\u001b[39mx\u001b[39m\u001b[39m%d\u001b[39;00m\u001b[39m'\u001b[39m \u001b[39m%\u001b[39m (size[\u001b[39m0\u001b[39m], size[\u001b[39m1\u001b[39m]),\n\u001b[1;32m     87\u001b[0m     \u001b[39m'\u001b[39m\u001b[39m-pix_fmt\u001b[39m\u001b[39m'\u001b[39m, \u001b[39m'\u001b[39m\u001b[39mrgba\u001b[39m\u001b[39m'\u001b[39m \u001b[39mif\u001b[39;00m withmask \u001b[39melse\u001b[39;00m \u001b[39m'\u001b[39m\u001b[39mrgb24\u001b[39m\u001b[39m'\u001b[39m,\n\u001b[0;32m---> 88\u001b[0m     \u001b[39m'\u001b[39m\u001b[39m-r\u001b[39m\u001b[39m'\u001b[39m, \u001b[39m'\u001b[39;49m\u001b[39m%.02f\u001b[39;49;00m\u001b[39m'\u001b[39;49m \u001b[39m%\u001b[39;49m fps,\n\u001b[1;32m     89\u001b[0m     \u001b[39m'\u001b[39m\u001b[39m-an\u001b[39m\u001b[39m'\u001b[39m, \u001b[39m'\u001b[39m\u001b[39m-i\u001b[39m\u001b[39m'\u001b[39m, \u001b[39m'\u001b[39m\u001b[39m-\u001b[39m\u001b[39m'\u001b[39m\n\u001b[1;32m     90\u001b[0m ]\n\u001b[1;32m     91\u001b[0m \u001b[39mif\u001b[39;00m audiofile \u001b[39mis\u001b[39;00m \u001b[39mnot\u001b[39;00m \u001b[39mNone\u001b[39;00m:\n\u001b[1;32m     92\u001b[0m     cmd\u001b[39m.\u001b[39mextend([\n\u001b[1;32m     93\u001b[0m         \u001b[39m'\u001b[39m\u001b[39m-i\u001b[39m\u001b[39m'\u001b[39m, audiofile,\n\u001b[1;32m     94\u001b[0m         \u001b[39m'\u001b[39m\u001b[39m-acodec\u001b[39m\u001b[39m'\u001b[39m, \u001b[39m'\u001b[39m\u001b[39mcopy\u001b[39m\u001b[39m'\u001b[39m\n\u001b[1;32m     95\u001b[0m     ])\n",
            "\u001b[0;31mTypeError\u001b[0m: must be real number, not NoneType"
          ]
        }
      ],
      "source": [
        "# Record sessions\n",
        "\n",
        "from gymnasium.wrappers import RecordVideo\n",
        "\n",
        "record_env = gym.make(\"CartPole-v0\", render_mode=\"rgb_array\")\n",
        "env_monitor = RecordVideo(record_env, video_folder=\"videos\")\n",
        "\n",
        "sessions = [generate_session(env_monitor, epsilon=0, train=False) for _ in range(100)]\n",
        "\n",
        "# with  as record_env,  as env_monitor:\n",
        "#     sessions = [\n",
        "#         generate_session(env_monitor, epsilon=0, train=False) for _ in range(100)\n",
        "#     ]\n"
      ]
    },
    {
      "cell_type": "code",
      "execution_count": 30,
      "metadata": {
        "id": "afqi2qomEmiC"
      },
      "outputs": [
        {
          "ename": "IndexError",
          "evalue": "list index out of range",
          "output_type": "error",
          "traceback": [
            "\u001b[0;31m---------------------------------------------------------------------------\u001b[0m",
            "\u001b[0;31mIndexError\u001b[0m                                Traceback (most recent call last)",
            "\u001b[1;32m/home/khaymonenko/Practical_RL/week04_approx_rl/seminar_pytorch.ipynb Cell 22\u001b[0m line \u001b[0;36m9\n\u001b[1;32m      <a href='vscode-notebook-cell:/home/khaymonenko/Practical_RL/week04_approx_rl/seminar_pytorch.ipynb#X30sZmlsZQ%3D%3D?line=5'>6</a>\u001b[0m \u001b[39mfrom\u001b[39;00m \u001b[39mIPython\u001b[39;00m\u001b[39m.\u001b[39;00m\u001b[39mdisplay\u001b[39;00m \u001b[39mimport\u001b[39;00m HTML\n\u001b[1;32m      <a href='vscode-notebook-cell:/home/khaymonenko/Practical_RL/week04_approx_rl/seminar_pytorch.ipynb#X30sZmlsZQ%3D%3D?line=7'>8</a>\u001b[0m video_paths \u001b[39m=\u001b[39m \u001b[39msorted\u001b[39m([s \u001b[39mfor\u001b[39;00m s \u001b[39min\u001b[39;00m Path(\u001b[39m'\u001b[39m\u001b[39mvideos\u001b[39m\u001b[39m'\u001b[39m)\u001b[39m.\u001b[39miterdir() \u001b[39mif\u001b[39;00m s\u001b[39m.\u001b[39msuffix \u001b[39m==\u001b[39m \u001b[39m'\u001b[39m\u001b[39m.mp4\u001b[39m\u001b[39m'\u001b[39m])\n\u001b[0;32m----> <a href='vscode-notebook-cell:/home/khaymonenko/Practical_RL/week04_approx_rl/seminar_pytorch.ipynb#X30sZmlsZQ%3D%3D?line=8'>9</a>\u001b[0m video_path \u001b[39m=\u001b[39m video_paths[\u001b[39m-\u001b[39;49m\u001b[39m1\u001b[39;49m]  \u001b[39m# You can also try other indices\u001b[39;00m\n\u001b[1;32m     <a href='vscode-notebook-cell:/home/khaymonenko/Practical_RL/week04_approx_rl/seminar_pytorch.ipynb#X30sZmlsZQ%3D%3D?line=10'>11</a>\u001b[0m \u001b[39mif\u001b[39;00m \u001b[39m'\u001b[39m\u001b[39mgoogle.colab\u001b[39m\u001b[39m'\u001b[39m \u001b[39min\u001b[39;00m sys\u001b[39m.\u001b[39mmodules:\n\u001b[1;32m     <a href='vscode-notebook-cell:/home/khaymonenko/Practical_RL/week04_approx_rl/seminar_pytorch.ipynb#X30sZmlsZQ%3D%3D?line=11'>12</a>\u001b[0m     \u001b[39m# https://stackoverflow.com/a/57378660/1214547\u001b[39;00m\n\u001b[1;32m     <a href='vscode-notebook-cell:/home/khaymonenko/Practical_RL/week04_approx_rl/seminar_pytorch.ipynb#X30sZmlsZQ%3D%3D?line=12'>13</a>\u001b[0m     \u001b[39mwith\u001b[39;00m video_path\u001b[39m.\u001b[39mopen(\u001b[39m'\u001b[39m\u001b[39mrb\u001b[39m\u001b[39m'\u001b[39m) \u001b[39mas\u001b[39;00m fp:\n",
            "\u001b[0;31mIndexError\u001b[0m: list index out of range"
          ]
        }
      ],
      "source": [
        "# Show video. This may not work in some setups. If it doesn't\n",
        "# work for you, you can download the videos and view them locally.\n",
        "\n",
        "from pathlib import Path\n",
        "from base64 import b64encode\n",
        "from IPython.display import HTML\n",
        "\n",
        "video_paths = sorted([s for s in Path('videos').iterdir() if s.suffix == '.mp4'])\n",
        "video_path = video_paths[-1]  # You can also try other indices\n",
        "\n",
        "if 'google.colab' in sys.modules:\n",
        "    # https://stackoverflow.com/a/57378660/1214547\n",
        "    with video_path.open('rb') as fp:\n",
        "        mp4 = fp.read()\n",
        "    data_url = 'data:video/mp4;base64,' + b64encode(mp4).decode()\n",
        "else:\n",
        "    data_url = str(video_path)\n",
        "\n",
        "HTML(\"\"\"\n",
        "<video width=\"640\" height=\"480\" controls>\n",
        "  <source src=\"{}\" type=\"video/mp4\">\n",
        "</video>\n",
        "\"\"\".format(data_url))"
      ]
    }
  ],
  "metadata": {
    "colab": {
      "provenance": []
    },
    "kernelspec": {
      "display_name": "Python 3",
      "name": "python3"
    },
    "language_info": {
      "codemirror_mode": {
        "name": "ipython",
        "version": 3
      },
      "file_extension": ".py",
      "mimetype": "text/x-python",
      "name": "python",
      "nbconvert_exporter": "python",
      "pygments_lexer": "ipython3",
      "version": "3.10.12"
    }
  },
  "nbformat": 4,
  "nbformat_minor": 0
}
